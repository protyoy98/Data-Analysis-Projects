{
 "cells": [
  {
   "cell_type": "code",
   "execution_count": 1,
   "id": "c46e96a9",
   "metadata": {},
   "outputs": [],
   "source": [
    "import pandas as pd\n",
    "import numpy as np\n",
    "import matplotlib.pyplot as plt\n",
    "%matplotlib inline\n",
    "import seaborn as sns"
   ]
  },
  {
   "cell_type": "markdown",
   "id": "63df9937",
   "metadata": {},
   "source": [
    "-\n",
    "\n",
    "Loding and verifying the data\n",
    "\n",
    "-"
   ]
  },
  {
   "cell_type": "code",
   "execution_count": 2,
   "id": "c9630770",
   "metadata": {},
   "outputs": [],
   "source": [
    "df = pd.read_csv('./aug2021_to_jul2022_ready_for_analysis.csv')"
   ]
  },
  {
   "cell_type": "code",
   "execution_count": 3,
   "id": "153c88e3",
   "metadata": {},
   "outputs": [
    {
     "name": "stdout",
     "output_type": "stream",
     "text": [
      "<class 'pandas.core.frame.DataFrame'>\n",
      "RangeIndex: 4621853 entries, 0 to 4621852\n",
      "Data columns (total 13 columns):\n",
      " #   Column            Dtype  \n",
      "---  ------            -----  \n",
      " 0   ride_id           object \n",
      " 1   rideable_type     object \n",
      " 2   started_at        object \n",
      " 3   ended_at          object \n",
      " 4   member_casual     object \n",
      " 5   ride_year         int64  \n",
      " 6   ride_month        object \n",
      " 7   ride_week_no      int64  \n",
      " 8   ride_hour_of_day  int64  \n",
      " 9   ride_day_of_week  object \n",
      " 10  weekday_weekend   object \n",
      " 11  ride_season       object \n",
      " 12  ride_len_mins     float64\n",
      "dtypes: float64(1), int64(3), object(9)\n",
      "memory usage: 458.4+ MB\n"
     ]
    }
   ],
   "source": [
    "df.info()"
   ]
  },
  {
   "cell_type": "code",
   "execution_count": 4,
   "id": "fb949424",
   "metadata": {},
   "outputs": [
    {
     "data": {
      "text/plain": [
       "ride_id             0\n",
       "rideable_type       0\n",
       "started_at          0\n",
       "ended_at            0\n",
       "member_casual       0\n",
       "ride_year           0\n",
       "ride_month          0\n",
       "ride_week_no        0\n",
       "ride_hour_of_day    0\n",
       "ride_day_of_week    0\n",
       "weekday_weekend     0\n",
       "ride_season         0\n",
       "ride_len_mins       0\n",
       "dtype: int64"
      ]
     },
     "execution_count": 4,
     "metadata": {},
     "output_type": "execute_result"
    }
   ],
   "source": [
    "df.isnull().sum()"
   ]
  },
  {
   "cell_type": "markdown",
   "id": "8254806a",
   "metadata": {},
   "source": [
    "--\n",
    "\n",
    "Lets get an overall analysis summary first\n",
    "\n",
    "--"
   ]
  },
  {
   "cell_type": "code",
   "execution_count": 5,
   "id": "63e5c47c",
   "metadata": {},
   "outputs": [
    {
     "data": {
      "text/html": [
       "<div>\n",
       "<style scoped>\n",
       "    .dataframe tbody tr th:only-of-type {\n",
       "        vertical-align: middle;\n",
       "    }\n",
       "\n",
       "    .dataframe tbody tr th {\n",
       "        vertical-align: top;\n",
       "    }\n",
       "\n",
       "    .dataframe thead th {\n",
       "        text-align: right;\n",
       "    }\n",
       "</style>\n",
       "<table border=\"1\" class=\"dataframe\">\n",
       "  <thead>\n",
       "    <tr style=\"text-align: right;\">\n",
       "      <th></th>\n",
       "      <th>ride_year</th>\n",
       "      <th>ride_week_no</th>\n",
       "      <th>ride_hour_of_day</th>\n",
       "      <th>ride_len_mins</th>\n",
       "    </tr>\n",
       "  </thead>\n",
       "  <tbody>\n",
       "    <tr>\n",
       "      <th>count</th>\n",
       "      <td>4.621853e+06</td>\n",
       "      <td>4.621853e+06</td>\n",
       "      <td>4.621853e+06</td>\n",
       "      <td>4.621853e+06</td>\n",
       "    </tr>\n",
       "    <tr>\n",
       "      <th>mean</th>\n",
       "      <td>2.021524e+03</td>\n",
       "      <td>2.922153e+01</td>\n",
       "      <td>1.420752e+01</td>\n",
       "      <td>1.716902e+01</td>\n",
       "    </tr>\n",
       "    <tr>\n",
       "      <th>std</th>\n",
       "      <td>4.994458e-01</td>\n",
       "      <td>1.085855e+01</td>\n",
       "      <td>4.981340e+00</td>\n",
       "      <td>2.034397e+01</td>\n",
       "    </tr>\n",
       "    <tr>\n",
       "      <th>min</th>\n",
       "      <td>2.021000e+03</td>\n",
       "      <td>1.000000e+00</td>\n",
       "      <td>0.000000e+00</td>\n",
       "      <td>0.000000e+00</td>\n",
       "    </tr>\n",
       "    <tr>\n",
       "      <th>25%</th>\n",
       "      <td>2.021000e+03</td>\n",
       "      <td>2.200000e+01</td>\n",
       "      <td>1.100000e+01</td>\n",
       "      <td>6.400000e+00</td>\n",
       "    </tr>\n",
       "    <tr>\n",
       "      <th>50%</th>\n",
       "      <td>2.022000e+03</td>\n",
       "      <td>3.000000e+01</td>\n",
       "      <td>1.500000e+01</td>\n",
       "      <td>1.120000e+01</td>\n",
       "    </tr>\n",
       "    <tr>\n",
       "      <th>75%</th>\n",
       "      <td>2.022000e+03</td>\n",
       "      <td>3.700000e+01</td>\n",
       "      <td>1.800000e+01</td>\n",
       "      <td>2.012000e+01</td>\n",
       "    </tr>\n",
       "    <tr>\n",
       "      <th>max</th>\n",
       "      <td>2.022000e+03</td>\n",
       "      <td>5.200000e+01</td>\n",
       "      <td>2.300000e+01</td>\n",
       "      <td>2.645000e+02</td>\n",
       "    </tr>\n",
       "  </tbody>\n",
       "</table>\n",
       "</div>"
      ],
      "text/plain": [
       "          ride_year  ride_week_no  ride_hour_of_day  ride_len_mins\n",
       "count  4.621853e+06  4.621853e+06      4.621853e+06   4.621853e+06\n",
       "mean   2.021524e+03  2.922153e+01      1.420752e+01   1.716902e+01\n",
       "std    4.994458e-01  1.085855e+01      4.981340e+00   2.034397e+01\n",
       "min    2.021000e+03  1.000000e+00      0.000000e+00   0.000000e+00\n",
       "25%    2.021000e+03  2.200000e+01      1.100000e+01   6.400000e+00\n",
       "50%    2.022000e+03  3.000000e+01      1.500000e+01   1.120000e+01\n",
       "75%    2.022000e+03  3.700000e+01      1.800000e+01   2.012000e+01\n",
       "max    2.022000e+03  5.200000e+01      2.300000e+01   2.645000e+02"
      ]
     },
     "execution_count": 5,
     "metadata": {},
     "output_type": "execute_result"
    }
   ],
   "source": [
    "df.describe()"
   ]
  },
  {
   "cell_type": "markdown",
   "id": "361312bd",
   "metadata": {},
   "source": [
    "Findings:\n",
    "1. Average ride length is 17 mins and max ride length is 264 mins which is equal to approx 4.5 hrs"
   ]
  },
  {
   "cell_type": "code",
   "execution_count": 15,
   "id": "5398824a",
   "metadata": {},
   "outputs": [
    {
     "data": {
      "text/html": [
       "<div>\n",
       "<style scoped>\n",
       "    .dataframe tbody tr th:only-of-type {\n",
       "        vertical-align: middle;\n",
       "    }\n",
       "\n",
       "    .dataframe tbody tr th {\n",
       "        vertical-align: top;\n",
       "    }\n",
       "\n",
       "    .dataframe thead th {\n",
       "        text-align: right;\n",
       "    }\n",
       "</style>\n",
       "<table border=\"1\" class=\"dataframe\">\n",
       "  <thead>\n",
       "    <tr style=\"text-align: right;\">\n",
       "      <th></th>\n",
       "      <th>ride_id</th>\n",
       "      <th>rideable_type</th>\n",
       "      <th>started_at</th>\n",
       "      <th>ended_at</th>\n",
       "      <th>member_casual</th>\n",
       "      <th>ride_month</th>\n",
       "      <th>ride_day_of_week</th>\n",
       "      <th>weekday_weekend</th>\n",
       "      <th>ride_season</th>\n",
       "    </tr>\n",
       "  </thead>\n",
       "  <tbody>\n",
       "    <tr>\n",
       "      <th>count</th>\n",
       "      <td>4621853</td>\n",
       "      <td>4621853</td>\n",
       "      <td>4621853</td>\n",
       "      <td>4621853</td>\n",
       "      <td>4621853</td>\n",
       "      <td>4621853</td>\n",
       "      <td>4621853</td>\n",
       "      <td>4621853</td>\n",
       "      <td>4621853</td>\n",
       "    </tr>\n",
       "    <tr>\n",
       "      <th>unique</th>\n",
       "      <td>4621853</td>\n",
       "      <td>3</td>\n",
       "      <td>3970542</td>\n",
       "      <td>3974719</td>\n",
       "      <td>2</td>\n",
       "      <td>12</td>\n",
       "      <td>7</td>\n",
       "      <td>2</td>\n",
       "      <td>4</td>\n",
       "    </tr>\n",
       "    <tr>\n",
       "      <th>top</th>\n",
       "      <td>D6AC43863387B96A</td>\n",
       "      <td>classic_bike</td>\n",
       "      <td>2022-07-09 17:23:31</td>\n",
       "      <td>2022-06-07 16:12:09</td>\n",
       "      <td>member</td>\n",
       "      <td>August</td>\n",
       "      <td>Saturday</td>\n",
       "      <td>weekday</td>\n",
       "      <td>Summer(Jun-Aug)</td>\n",
       "    </tr>\n",
       "    <tr>\n",
       "      <th>freq</th>\n",
       "      <td>1</td>\n",
       "      <td>3045113</td>\n",
       "      <td>8</td>\n",
       "      <td>10</td>\n",
       "      <td>2678743</td>\n",
       "      <td>673107</td>\n",
       "      <td>776617</td>\n",
       "      <td>3137791</td>\n",
       "      <td>1934191</td>\n",
       "    </tr>\n",
       "  </tbody>\n",
       "</table>\n",
       "</div>"
      ],
      "text/plain": [
       "                 ride_id rideable_type           started_at  \\\n",
       "count            4621853       4621853              4621853   \n",
       "unique           4621853             3              3970542   \n",
       "top     D6AC43863387B96A  classic_bike  2022-07-09 17:23:31   \n",
       "freq                   1       3045113                    8   \n",
       "\n",
       "                   ended_at member_casual ride_month ride_day_of_week  \\\n",
       "count               4621853       4621853    4621853          4621853   \n",
       "unique              3974719             2         12                7   \n",
       "top     2022-06-07 16:12:09        member     August         Saturday   \n",
       "freq                     10       2678743     673107           776617   \n",
       "\n",
       "       weekday_weekend      ride_season  \n",
       "count          4621853          4621853  \n",
       "unique               2                4  \n",
       "top            weekday  Summer(Jun-Aug)  \n",
       "freq           3137791          1934191  "
      ]
     },
     "execution_count": 15,
     "metadata": {},
     "output_type": "execute_result"
    }
   ],
   "source": [
    "df.describe(include=['O'])"
   ]
  },
  {
   "cell_type": "markdown",
   "id": "5c0f56da",
   "metadata": {},
   "source": [
    "Findings:\n",
    "1. Total 4621853 rides are taken.\n",
    "2. classic_bike is the most preferred bike(rideable_type) with usage percentage of 3045113/4621853 = 66%.\n",
    "3. 58% of riders are Members.\n",
    "4. August month has most number of rides.\n",
    "5. Saturday is the most preferred day of week.\n",
    "6. Riders prefer to use Cyclistic bikes on weekdays.\n",
    "7. Most preferred season for cycling is Summer (Jun-Aug)."
   ]
  },
  {
   "cell_type": "markdown",
   "id": "1efa2bb3",
   "metadata": {},
   "source": [
    "--\n",
    "\n",
    "Now we shall analyse by each sector for further findings.\n",
    "First, Lets see all the analysis by ride count. We have to keep in mind our business task.\n",
    "\n",
    "--"
   ]
  },
  {
   "cell_type": "markdown",
   "id": "e1a3b86e",
   "metadata": {},
   "source": [
    "## No. of Bike Hires (count(ride_id))"
   ]
  },
  {
   "cell_type": "markdown",
   "id": "5d26e9dc",
   "metadata": {},
   "source": [
    "### 1. Per Rider Category (Member/Casual)"
   ]
  },
  {
   "cell_type": "code",
   "execution_count": 49,
   "id": "dcf0c7a6",
   "metadata": {},
   "outputs": [],
   "source": [
    "percent_mem_cas = df.groupby(['member_casual']).ride_id.count() * 100 / df.shape[0] #for percentage result"
   ]
  },
  {
   "cell_type": "code",
   "execution_count": 50,
   "id": "c7a92976",
   "metadata": {},
   "outputs": [
    {
     "data": {
      "image/png": "[encoded data removed]",
      "text/plain": [
       "<Figure size 432x288 with 1 Axes>"
      ]
     },
     "metadata": {},
     "output_type": "display_data"
    }
   ],
   "source": [
    "# Lets see through visualization\n",
    "plt.pie(percent_mem_cas, labels= percent_mem_cas.index, autopct='%.1f%%', shadow=True)\n",
    "plt.title('Bike Hires per Rider Category')\n",
    "plt.savefig('./visualizations from py notebook/Bike Hires per Rider Category.png')\n",
    "plt.show()"
   ]
  },
  {
   "cell_type": "markdown",
   "id": "e4dee984",
   "metadata": {},
   "source": [
    "Findings:\n",
    "* Only 58% of total bike hires are done by members and rest are done by casual riders.\n",
    "\n",
    "### 2. Per Day of Week"
   ]
  },
  {
   "cell_type": "code",
   "execution_count": 10,
   "id": "fad6d835",
   "metadata": {},
   "outputs": [],
   "source": [
    "hires_per_day = df.ride_day_of_week.value_counts(ascending=False)"
   ]
  },
  {
   "cell_type": "code",
   "execution_count": 5,
   "id": "e0f4ef86",
   "metadata": {},
   "outputs": [
    {
     "data": {
      "text/plain": [
       "Saturday     776617\n",
       "Sunday       707445\n",
       "Thursday     651279\n",
       "Wednesday    628786\n",
       "Friday       627964\n",
       "Tuesday      623840\n",
       "Monday       605922\n",
       "Name: ride_day_of_week, dtype: int64"
      ]
     },
     "execution_count": 5,
     "metadata": {},
     "output_type": "execute_result"
    }
   ],
   "source": [
    "hires_per_day"
   ]
  },
  {
   "cell_type": "code",
   "execution_count": 15,
   "id": "46bed250",
   "metadata": {},
   "outputs": [
    {
     "data": {
      "image/png": "[encoded data removed]",
      "text/plain": [
       "<Figure size 432x288 with 1 Axes>"
      ]
     },
     "metadata": {
      "needs_background": "light"
     },
     "output_type": "display_data"
    }
   ],
   "source": [
    "fig, ax = plt.subplots()\n",
    "sns.barplot(x = hires_per_day.index, y = hires_per_day, ax=ax)\n",
    "ax.set_xlabel('Day of Week')\n",
    "ax.set_ylabel('Bike Hires')\n",
    "ax.set_title('Bike Hires per Day of Week')\n",
    "plt.savefig('./visualizations from py notebook/Bike Hires per Day of Week')"
   ]
  },
  {
   "cell_type": "markdown",
   "id": "e2d76280",
   "metadata": {},
   "source": [
    "Findings-\n",
    "1. Overall bike hires are highest is Saturday, follwed by Sunday and Thursday and lowest in Monday."
   ]
  },
  {
   "cell_type": "markdown",
   "id": "d1a4f7e5",
   "metadata": {},
   "source": [
    "#### 2.a. Per Rider Category per Day of Week"
   ]
  },
  {
   "cell_type": "code",
   "execution_count": 4,
   "id": "da1881ba",
   "metadata": {},
   "outputs": [],
   "source": [
    "#groupby\n",
    "bike_hire_per_rider_category_per_day = df.groupby(['member_casual']).ride_day_of_week.value_counts(sort=True).unstack(0).sort_values('member', ascending=False)"
   ]
  },
  {
   "cell_type": "code",
   "execution_count": 139,
   "id": "4d9a8018",
   "metadata": {},
   "outputs": [
    {
     "data": {
      "text/html": [
       "<div>\n",
       "<style scoped>\n",
       "    .dataframe tbody tr th:only-of-type {\n",
       "        vertical-align: middle;\n",
       "    }\n",
       "\n",
       "    .dataframe tbody tr th {\n",
       "        vertical-align: top;\n",
       "    }\n",
       "\n",
       "    .dataframe thead th {\n",
       "        text-align: right;\n",
       "    }\n",
       "</style>\n",
       "<table border=\"1\" class=\"dataframe\">\n",
       "  <thead>\n",
       "    <tr style=\"text-align: right;\">\n",
       "      <th>member_casual</th>\n",
       "      <th>casual</th>\n",
       "      <th>member</th>\n",
       "    </tr>\n",
       "    <tr>\n",
       "      <th>ride_day_of_week</th>\n",
       "      <th></th>\n",
       "      <th></th>\n",
       "    </tr>\n",
       "  </thead>\n",
       "  <tbody>\n",
       "    <tr>\n",
       "      <th>Tuesday</th>\n",
       "      <td>204009</td>\n",
       "      <td>419831</td>\n",
       "    </tr>\n",
       "    <tr>\n",
       "      <th>Wednesday</th>\n",
       "      <td>210157</td>\n",
       "      <td>418629</td>\n",
       "    </tr>\n",
       "    <tr>\n",
       "      <th>Thursday</th>\n",
       "      <td>236976</td>\n",
       "      <td>414303</td>\n",
       "    </tr>\n",
       "    <tr>\n",
       "      <th>Monday</th>\n",
       "      <td>228559</td>\n",
       "      <td>377363</td>\n",
       "    </tr>\n",
       "    <tr>\n",
       "      <th>Friday</th>\n",
       "      <td>262982</td>\n",
       "      <td>364982</td>\n",
       "    </tr>\n",
       "    <tr>\n",
       "      <th>Saturday</th>\n",
       "      <td>421291</td>\n",
       "      <td>355326</td>\n",
       "    </tr>\n",
       "    <tr>\n",
       "      <th>Sunday</th>\n",
       "      <td>379136</td>\n",
       "      <td>328309</td>\n",
       "    </tr>\n",
       "  </tbody>\n",
       "</table>\n",
       "</div>"
      ],
      "text/plain": [
       "member_casual     casual  member\n",
       "ride_day_of_week                \n",
       "Tuesday           204009  419831\n",
       "Wednesday         210157  418629\n",
       "Thursday          236976  414303\n",
       "Monday            228559  377363\n",
       "Friday            262982  364982\n",
       "Saturday          421291  355326\n",
       "Sunday            379136  328309"
      ]
     },
     "execution_count": 139,
     "metadata": {},
     "output_type": "execute_result"
    }
   ],
   "source": [
    "bike_hire_per_rider_category_per_day"
   ]
  },
  {
   "cell_type": "code",
   "execution_count": 17,
   "id": "77be1dbc",
   "metadata": {},
   "outputs": [
    {
     "data": {
      "image/png": "[encoded data removed]",
      "text/plain": [
       "<Figure size 432x288 with 1 Axes>"
      ]
     },
     "metadata": {
      "needs_background": "light"
     },
     "output_type": "display_data"
    }
   ],
   "source": [
    "bike_hire_per_rider_category_per_day.plot.barh()\n",
    "plt.title('Bike Hires per Rider Category per Day of Week')\n",
    "plt.ylabel('Day of Week')\n",
    "plt.xlabel('Bike Hires')\n",
    "plt.savefig('./visualizations from py notebook/Bike Hires per Rider Category per Day of Week')"
   ]
  },
  {
   "cell_type": "markdown",
   "id": "1671d75b",
   "metadata": {},
   "source": [
    "Findings-\n",
    "* Casual riders preferably ride on weekends while annual members hires bikes on weekdays especially Tuesday, Wednesday and Thursday.\n",
    "\n",
    "\n",
    "Recomendations-\n",
    "* We should run special ad campaign on weekends for the casual riders."
   ]
  },
  {
   "cell_type": "markdown",
   "id": "a60b8960",
   "metadata": {},
   "source": [
    "### 3. Per Month"
   ]
  },
  {
   "cell_type": "code",
   "execution_count": 19,
   "id": "ccac9b40",
   "metadata": {},
   "outputs": [],
   "source": [
    "hires_per_month = df.ride_month.value_counts()"
   ]
  },
  {
   "cell_type": "code",
   "execution_count": 204,
   "id": "e354c1d5",
   "metadata": {},
   "outputs": [
    {
     "data": {
      "text/plain": [
       "August       673107\n",
       "July         641720\n",
       "September    620004\n",
       "June         619364\n",
       "May          501669\n",
       "October      477200\n",
       "April        272162\n",
       "November     255625\n",
       "March        215649\n",
       "December     176207\n",
       "February      89081\n",
       "January       80065\n",
       "Name: ride_month, dtype: int64"
      ]
     },
     "execution_count": 204,
     "metadata": {},
     "output_type": "execute_result"
    }
   ],
   "source": [
    "hires_per_month"
   ]
  },
  {
   "cell_type": "code",
   "execution_count": 20,
   "id": "150e05e4",
   "metadata": {},
   "outputs": [
    {
     "data": {
      "image/png": "[encoded data removed]",
      "text/plain": [
       "<Figure size 432x288 with 1 Axes>"
      ]
     },
     "metadata": {
      "needs_background": "light"
     },
     "output_type": "display_data"
    }
   ],
   "source": [
    "fig, ax = plt.subplots()\n",
    "sns.barplot(x = hires_per_month.index, y = hires_per_month, ax=ax)\n",
    "ax.set_xlabel('Month of Year')\n",
    "ax.set_ylabel('Bike Hires')\n",
    "ax.set_title('Bike Hires per Month')\n",
    "plt.savefig('./visualizations from py notebook/Bike Hires per Month')"
   ]
  },
  {
   "cell_type": "markdown",
   "id": "e2c23e92",
   "metadata": {},
   "source": [
    "Findings-\n",
    "1. June - September months have the highest number of bike hires and January, February have the lowest."
   ]
  },
  {
   "cell_type": "markdown",
   "id": "43a76665",
   "metadata": {},
   "source": [
    "#### 3.a. Per Rider Category per Month"
   ]
  },
  {
   "cell_type": "code",
   "execution_count": 21,
   "id": "064c9f8d",
   "metadata": {},
   "outputs": [],
   "source": [
    "hires_per_rider_per_month = df.groupby('member_casual').ride_month.value_counts().unstack(0).sort_values('member',ascending=False)"
   ]
  },
  {
   "cell_type": "code",
   "execution_count": 207,
   "id": "93c8a74e",
   "metadata": {},
   "outputs": [
    {
     "data": {
      "text/html": [
       "<div>\n",
       "<style scoped>\n",
       "    .dataframe tbody tr th:only-of-type {\n",
       "        vertical-align: middle;\n",
       "    }\n",
       "\n",
       "    .dataframe tbody tr th {\n",
       "        vertical-align: top;\n",
       "    }\n",
       "\n",
       "    .dataframe thead th {\n",
       "        text-align: right;\n",
       "    }\n",
       "</style>\n",
       "<table border=\"1\" class=\"dataframe\">\n",
       "  <thead>\n",
       "    <tr style=\"text-align: right;\">\n",
       "      <th>member_casual</th>\n",
       "      <th>casual</th>\n",
       "      <th>member</th>\n",
       "    </tr>\n",
       "    <tr>\n",
       "      <th>ride_month</th>\n",
       "      <th></th>\n",
       "      <th></th>\n",
       "    </tr>\n",
       "  </thead>\n",
       "  <tbody>\n",
       "    <tr>\n",
       "      <th>August</th>\n",
       "      <td>340323</td>\n",
       "      <td>332784</td>\n",
       "    </tr>\n",
       "    <tr>\n",
       "      <th>July</th>\n",
       "      <td>310840</td>\n",
       "      <td>330880</td>\n",
       "    </tr>\n",
       "    <tr>\n",
       "      <th>June</th>\n",
       "      <td>291230</td>\n",
       "      <td>328134</td>\n",
       "    </tr>\n",
       "    <tr>\n",
       "      <th>September</th>\n",
       "      <td>291935</td>\n",
       "      <td>328069</td>\n",
       "    </tr>\n",
       "    <tr>\n",
       "      <th>October</th>\n",
       "      <td>188427</td>\n",
       "      <td>288773</td>\n",
       "    </tr>\n",
       "    <tr>\n",
       "      <th>May</th>\n",
       "      <td>219483</td>\n",
       "      <td>282186</td>\n",
       "    </tr>\n",
       "    <tr>\n",
       "      <th>November</th>\n",
       "      <td>69769</td>\n",
       "      <td>185856</td>\n",
       "    </tr>\n",
       "    <tr>\n",
       "      <th>April</th>\n",
       "      <td>91600</td>\n",
       "      <td>180562</td>\n",
       "    </tr>\n",
       "    <tr>\n",
       "      <th>March</th>\n",
       "      <td>66917</td>\n",
       "      <td>148732</td>\n",
       "    </tr>\n",
       "    <tr>\n",
       "      <th>December</th>\n",
       "      <td>44941</td>\n",
       "      <td>131266</td>\n",
       "    </tr>\n",
       "    <tr>\n",
       "      <th>February</th>\n",
       "      <td>15084</td>\n",
       "      <td>73997</td>\n",
       "    </tr>\n",
       "    <tr>\n",
       "      <th>January</th>\n",
       "      <td>12561</td>\n",
       "      <td>67504</td>\n",
       "    </tr>\n",
       "  </tbody>\n",
       "</table>\n",
       "</div>"
      ],
      "text/plain": [
       "member_casual  casual  member\n",
       "ride_month                   \n",
       "August         340323  332784\n",
       "July           310840  330880\n",
       "June           291230  328134\n",
       "September      291935  328069\n",
       "October        188427  288773\n",
       "May            219483  282186\n",
       "November        69769  185856\n",
       "April           91600  180562\n",
       "March           66917  148732\n",
       "December        44941  131266\n",
       "February        15084   73997\n",
       "January         12561   67504"
      ]
     },
     "execution_count": 207,
     "metadata": {},
     "output_type": "execute_result"
    }
   ],
   "source": [
    "hires_per_rider_per_month"
   ]
  },
  {
   "cell_type": "code",
   "execution_count": 23,
   "id": "5befbd36",
   "metadata": {},
   "outputs": [
    {
     "data": {
      "image/png": "[encoded data removed]",
      "text/plain": [
       "<Figure size 432x288 with 1 Axes>"
      ]
     },
     "metadata": {
      "needs_background": "light"
     },
     "output_type": "display_data"
    }
   ],
   "source": [
    "fig, ax = plt.subplots()\n",
    "hires_per_rider_per_month.plot.barh(ax=ax)\n",
    "ax.set_ylabel('Month')\n",
    "ax.set_xlabel('Bike Hires')\n",
    "ax.set_title('Bike Hires per Rider Category per Month')\n",
    "plt.savefig('./visualizations from py notebook/Bike Hires per Rider Category per Month')"
   ]
  },
  {
   "cell_type": "markdown",
   "id": "840265bc",
   "metadata": {},
   "source": [
    "Findings-\n",
    "1. We can notice the dip in bike hirings in the cold months.\n",
    "2. DUring the cold months casual ridership reduced significantly."
   ]
  },
  {
   "cell_type": "markdown",
   "id": "809e1913",
   "metadata": {},
   "source": [
    "### 4. Per Season"
   ]
  },
  {
   "cell_type": "code",
   "execution_count": 24,
   "id": "9edcfceb",
   "metadata": {},
   "outputs": [],
   "source": [
    "hires_per_season = df.ride_season.value_counts()"
   ]
  },
  {
   "cell_type": "code",
   "execution_count": 158,
   "id": "b68c8137",
   "metadata": {},
   "outputs": [
    {
     "data": {
      "text/plain": [
       "Summer(Jun-Aug)    1934191\n",
       "Autumn(Sep-Nov)    1352829\n",
       "Spring(Mar-May)     989480\n",
       "Winter(Dec-Feb)     345353\n",
       "Name: ride_season, dtype: int64"
      ]
     },
     "execution_count": 158,
     "metadata": {},
     "output_type": "execute_result"
    }
   ],
   "source": [
    "hires_per_season"
   ]
  },
  {
   "cell_type": "code",
   "execution_count": 25,
   "id": "d3f0e95a",
   "metadata": {},
   "outputs": [
    {
     "data": {
      "image/png": "[encoded data removed]",
      "text/plain": [
       "<Figure size 432x288 with 1 Axes>"
      ]
     },
     "metadata": {
      "needs_background": "light"
     },
     "output_type": "display_data"
    }
   ],
   "source": [
    "fig, ax = plt.subplots()\n",
    "sns.barplot(x = hires_per_season.index, y = hires_per_season, ax=ax)\n",
    "ax.set_xlabel('Season')\n",
    "ax.set_ylabel('Bike Hires')\n",
    "ax.set_title('Bike Hires per Season')\n",
    "plt.savefig('./visualizations from py notebook/Bike Hires per Season')"
   ]
  },
  {
   "cell_type": "markdown",
   "id": "a11c970f",
   "metadata": {},
   "source": [
    "Findings - \n",
    "1. Summer is the most preferred season overall for riders and Winter being the least."
   ]
  },
  {
   "cell_type": "markdown",
   "id": "3cdaa0d3",
   "metadata": {},
   "source": [
    "#### 4.a. Per Rider Category per Season"
   ]
  },
  {
   "cell_type": "code",
   "execution_count": 26,
   "id": "485d83fa",
   "metadata": {},
   "outputs": [],
   "source": [
    "hires_per_rider_per_season = df.groupby('member_casual').ride_season.value_counts().unstack(0).sort_values('member',ascending=False)"
   ]
  },
  {
   "cell_type": "code",
   "execution_count": 168,
   "id": "9d51a534",
   "metadata": {},
   "outputs": [
    {
     "data": {
      "text/html": [
       "<div>\n",
       "<style scoped>\n",
       "    .dataframe tbody tr th:only-of-type {\n",
       "        vertical-align: middle;\n",
       "    }\n",
       "\n",
       "    .dataframe tbody tr th {\n",
       "        vertical-align: top;\n",
       "    }\n",
       "\n",
       "    .dataframe thead th {\n",
       "        text-align: right;\n",
       "    }\n",
       "</style>\n",
       "<table border=\"1\" class=\"dataframe\">\n",
       "  <thead>\n",
       "    <tr style=\"text-align: right;\">\n",
       "      <th>member_casual</th>\n",
       "      <th>casual</th>\n",
       "      <th>member</th>\n",
       "    </tr>\n",
       "    <tr>\n",
       "      <th>ride_season</th>\n",
       "      <th></th>\n",
       "      <th></th>\n",
       "    </tr>\n",
       "  </thead>\n",
       "  <tbody>\n",
       "    <tr>\n",
       "      <th>Summer(Jun-Aug)</th>\n",
       "      <td>942393</td>\n",
       "      <td>991798</td>\n",
       "    </tr>\n",
       "    <tr>\n",
       "      <th>Autumn(Sep-Nov)</th>\n",
       "      <td>550131</td>\n",
       "      <td>802698</td>\n",
       "    </tr>\n",
       "    <tr>\n",
       "      <th>Spring(Mar-May)</th>\n",
       "      <td>378000</td>\n",
       "      <td>611480</td>\n",
       "    </tr>\n",
       "    <tr>\n",
       "      <th>Winter(Dec-Feb)</th>\n",
       "      <td>72586</td>\n",
       "      <td>272767</td>\n",
       "    </tr>\n",
       "  </tbody>\n",
       "</table>\n",
       "</div>"
      ],
      "text/plain": [
       "member_casual    casual  member\n",
       "ride_season                    \n",
       "Summer(Jun-Aug)  942393  991798\n",
       "Autumn(Sep-Nov)  550131  802698\n",
       "Spring(Mar-May)  378000  611480\n",
       "Winter(Dec-Feb)   72586  272767"
      ]
     },
     "execution_count": 168,
     "metadata": {},
     "output_type": "execute_result"
    }
   ],
   "source": [
    "hires_per_rider_per_season"
   ]
  },
  {
   "cell_type": "code",
   "execution_count": 28,
   "id": "049be8a2",
   "metadata": {},
   "outputs": [
    {
     "data": {
      "image/png": "[encoded data removed]",
      "text/plain": [
       "<Figure size 432x288 with 1 Axes>"
      ]
     },
     "metadata": {
      "needs_background": "light"
     },
     "output_type": "display_data"
    }
   ],
   "source": [
    "fig, ax = plt.subplots()\n",
    "hires_per_rider_per_season.plot.barh(ax=ax)\n",
    "ax.set_ylabel('Season')\n",
    "ax.set_xlabel('Bike Hires')\n",
    "ax.set_title('Bike Hires per Rider Category per Season')\n",
    "plt.savefig('./visualizations from py notebook/Bike Hires per Rider Category per Season')"
   ]
  },
  {
   "cell_type": "markdown",
   "id": "b27ab82d",
   "metadata": {},
   "source": [
    "Seems like our previous analysis is true for both rider categories."
   ]
  },
  {
   "cell_type": "markdown",
   "id": "95404843",
   "metadata": {},
   "source": [
    "### 5. Per Hour of Day"
   ]
  },
  {
   "cell_type": "code",
   "execution_count": 29,
   "id": "70e35648",
   "metadata": {},
   "outputs": [],
   "source": [
    "hires_per_hour = df.ride_hour_of_day.value_counts().sort_index()"
   ]
  },
  {
   "cell_type": "code",
   "execution_count": 182,
   "id": "bb4be4a0",
   "metadata": {},
   "outputs": [
    {
     "data": {
      "text/plain": [
       "0      63628\n",
       "1      41585\n",
       "2      24593\n",
       "3      13921\n",
       "4      12180\n",
       "5      37124\n",
       "6      98042\n",
       "7     184425\n",
       "8     222920\n",
       "9     176727\n",
       "10    190903\n",
       "11    239264\n",
       "12    275378\n",
       "13    278534\n",
       "14    281269\n",
       "15    320710\n",
       "16    397026\n",
       "17    475205\n",
       "18    399620\n",
       "19    290413\n",
       "20    203772\n",
       "21    163855\n",
       "22    135534\n",
       "23     95225\n",
       "Name: ride_hour_of_day, dtype: int64"
      ]
     },
     "execution_count": 182,
     "metadata": {},
     "output_type": "execute_result"
    }
   ],
   "source": [
    "hires_per_hour"
   ]
  },
  {
   "cell_type": "code",
   "execution_count": 30,
   "id": "69ed1826",
   "metadata": {},
   "outputs": [
    {
     "data": {
      "image/png": "[encoded data removed]",
      "text/plain": [
       "<Figure size 432x288 with 1 Axes>"
      ]
     },
     "metadata": {
      "needs_background": "light"
     },
     "output_type": "display_data"
    }
   ],
   "source": [
    "fig, ax = plt.subplots()\n",
    "sns.barplot(x = hires_per_hour.index, y = hires_per_hour, ax=ax)\n",
    "ax.set_xlabel('Hour of Day')\n",
    "ax.set_ylabel('Bike Hires')\n",
    "ax.set_title('Bike Hires per Hour of Day')\n",
    "plt.savefig('./visualizations from py notebook/Bike Hires per Hour of Day')"
   ]
  },
  {
   "cell_type": "markdown",
   "id": "53a353af",
   "metadata": {},
   "source": [
    "Findings-\n",
    "1. There is a significant increase in bike hires in the afternoon timings\n",
    "\n",
    "Lets find if this trend any different between both rider categories"
   ]
  },
  {
   "cell_type": "markdown",
   "id": "eae501eb",
   "metadata": {},
   "source": [
    "#### 5.a. Per Rider Category Per Hour of Day"
   ]
  },
  {
   "cell_type": "code",
   "execution_count": 31,
   "id": "d82aa6ae",
   "metadata": {},
   "outputs": [],
   "source": [
    "hires_per_rider_per_hour = df.groupby('member_casual').ride_hour_of_day.value_counts().unstack(0).sort_index()"
   ]
  },
  {
   "cell_type": "code",
   "execution_count": 187,
   "id": "aebc153b",
   "metadata": {},
   "outputs": [
    {
     "data": {
      "text/html": [
       "<div>\n",
       "<style scoped>\n",
       "    .dataframe tbody tr th:only-of-type {\n",
       "        vertical-align: middle;\n",
       "    }\n",
       "\n",
       "    .dataframe tbody tr th {\n",
       "        vertical-align: top;\n",
       "    }\n",
       "\n",
       "    .dataframe thead th {\n",
       "        text-align: right;\n",
       "    }\n",
       "</style>\n",
       "<table border=\"1\" class=\"dataframe\">\n",
       "  <thead>\n",
       "    <tr style=\"text-align: right;\">\n",
       "      <th>member_casual</th>\n",
       "      <th>casual</th>\n",
       "      <th>member</th>\n",
       "    </tr>\n",
       "    <tr>\n",
       "      <th>ride_hour_of_day</th>\n",
       "      <th></th>\n",
       "      <th></th>\n",
       "    </tr>\n",
       "  </thead>\n",
       "  <tbody>\n",
       "    <tr>\n",
       "      <th>0</th>\n",
       "      <td>37456</td>\n",
       "      <td>26172</td>\n",
       "    </tr>\n",
       "    <tr>\n",
       "      <th>1</th>\n",
       "      <td>25322</td>\n",
       "      <td>16263</td>\n",
       "    </tr>\n",
       "    <tr>\n",
       "      <th>2</th>\n",
       "      <td>15601</td>\n",
       "      <td>8992</td>\n",
       "    </tr>\n",
       "    <tr>\n",
       "      <th>3</th>\n",
       "      <td>8553</td>\n",
       "      <td>5368</td>\n",
       "    </tr>\n",
       "    <tr>\n",
       "      <th>4</th>\n",
       "      <td>5787</td>\n",
       "      <td>6393</td>\n",
       "    </tr>\n",
       "    <tr>\n",
       "      <th>5</th>\n",
       "      <td>9069</td>\n",
       "      <td>28055</td>\n",
       "    </tr>\n",
       "    <tr>\n",
       "      <th>6</th>\n",
       "      <td>20766</td>\n",
       "      <td>77276</td>\n",
       "    </tr>\n",
       "    <tr>\n",
       "      <th>7</th>\n",
       "      <td>38942</td>\n",
       "      <td>145483</td>\n",
       "    </tr>\n",
       "    <tr>\n",
       "      <th>8</th>\n",
       "      <td>52945</td>\n",
       "      <td>169975</td>\n",
       "    </tr>\n",
       "    <tr>\n",
       "      <th>9</th>\n",
       "      <td>60244</td>\n",
       "      <td>116483</td>\n",
       "    </tr>\n",
       "    <tr>\n",
       "      <th>10</th>\n",
       "      <td>81954</td>\n",
       "      <td>108949</td>\n",
       "    </tr>\n",
       "    <tr>\n",
       "      <th>11</th>\n",
       "      <td>107978</td>\n",
       "      <td>131286</td>\n",
       "    </tr>\n",
       "    <tr>\n",
       "      <th>12</th>\n",
       "      <td>125047</td>\n",
       "      <td>150331</td>\n",
       "    </tr>\n",
       "    <tr>\n",
       "      <th>13</th>\n",
       "      <td>132080</td>\n",
       "      <td>146454</td>\n",
       "    </tr>\n",
       "    <tr>\n",
       "      <th>14</th>\n",
       "      <td>136629</td>\n",
       "      <td>144640</td>\n",
       "    </tr>\n",
       "    <tr>\n",
       "      <th>15</th>\n",
       "      <td>147835</td>\n",
       "      <td>172875</td>\n",
       "    </tr>\n",
       "    <tr>\n",
       "      <th>16</th>\n",
       "      <td>162959</td>\n",
       "      <td>234067</td>\n",
       "    </tr>\n",
       "    <tr>\n",
       "      <th>17</th>\n",
       "      <td>186638</td>\n",
       "      <td>288567</td>\n",
       "    </tr>\n",
       "    <tr>\n",
       "      <th>18</th>\n",
       "      <td>166729</td>\n",
       "      <td>232891</td>\n",
       "    </tr>\n",
       "    <tr>\n",
       "      <th>19</th>\n",
       "      <td>126700</td>\n",
       "      <td>163713</td>\n",
       "    </tr>\n",
       "    <tr>\n",
       "      <th>20</th>\n",
       "      <td>91476</td>\n",
       "      <td>112296</td>\n",
       "    </tr>\n",
       "    <tr>\n",
       "      <th>21</th>\n",
       "      <td>78146</td>\n",
       "      <td>85709</td>\n",
       "    </tr>\n",
       "    <tr>\n",
       "      <th>22</th>\n",
       "      <td>71280</td>\n",
       "      <td>64254</td>\n",
       "    </tr>\n",
       "    <tr>\n",
       "      <th>23</th>\n",
       "      <td>52974</td>\n",
       "      <td>42251</td>\n",
       "    </tr>\n",
       "  </tbody>\n",
       "</table>\n",
       "</div>"
      ],
      "text/plain": [
       "member_casual     casual  member\n",
       "ride_hour_of_day                \n",
       "0                  37456   26172\n",
       "1                  25322   16263\n",
       "2                  15601    8992\n",
       "3                   8553    5368\n",
       "4                   5787    6393\n",
       "5                   9069   28055\n",
       "6                  20766   77276\n",
       "7                  38942  145483\n",
       "8                  52945  169975\n",
       "9                  60244  116483\n",
       "10                 81954  108949\n",
       "11                107978  131286\n",
       "12                125047  150331\n",
       "13                132080  146454\n",
       "14                136629  144640\n",
       "15                147835  172875\n",
       "16                162959  234067\n",
       "17                186638  288567\n",
       "18                166729  232891\n",
       "19                126700  163713\n",
       "20                 91476  112296\n",
       "21                 78146   85709\n",
       "22                 71280   64254\n",
       "23                 52974   42251"
      ]
     },
     "execution_count": 187,
     "metadata": {},
     "output_type": "execute_result"
    }
   ],
   "source": [
    "hires_per_rider_per_hour"
   ]
  },
  {
   "cell_type": "code",
   "execution_count": 32,
   "id": "f3731722",
   "metadata": {},
   "outputs": [
    {
     "data": {
      "image/png": "[encoded data removed]",
      "text/plain": [
       "<Figure size 432x288 with 1 Axes>"
      ]
     },
     "metadata": {
      "needs_background": "light"
     },
     "output_type": "display_data"
    }
   ],
   "source": [
    "fig, ax = plt.subplots()\n",
    "hires_per_rider_per_hour.plot.bar(ax=ax)\n",
    "ax.set_xlabel('Hour of Day')\n",
    "ax.set_ylabel('Bike Hires')\n",
    "ax.set_title('Bike Hires per Rider Category per Hour of Day')\n",
    "plt.savefig('./visualizations from py notebook/Bike Hires per Rider Category per Hour of Day')"
   ]
  },
  {
   "cell_type": "markdown",
   "id": "f9e0720e",
   "metadata": {},
   "source": [
    "Findings - \n",
    "1. Most bike hires has been happened in the afternoon time by both members and casual riders.\n",
    "2. We can see there is a significant increase in bike hires in morning between 7-9 am for annual members. Earlier we have seen that there is an increase in bike hires on weekdays by annual members. This may indicate that riders going to work everyday prefers annual membership rather than casual riding."
   ]
  },
  {
   "cell_type": "markdown",
   "id": "a2278786",
   "metadata": {},
   "source": [
    "## Rideable Type(Bike Type)"
   ]
  },
  {
   "cell_type": "markdown",
   "id": "23b3a6a9",
   "metadata": {},
   "source": [
    "## 1. Preferred Rideable Type"
   ]
  },
  {
   "cell_type": "code",
   "execution_count": 33,
   "id": "1d2fe2a3",
   "metadata": {},
   "outputs": [],
   "source": [
    "bike_type_count = df.rideable_type.value_counts(ascending = False)"
   ]
  },
  {
   "cell_type": "code",
   "execution_count": 34,
   "id": "5b91a89c",
   "metadata": {},
   "outputs": [
    {
     "data": {
      "text/plain": [
       "classic_bike     3045113\n",
       "electric_bike    1355050\n",
       "docked_bike       221690\n",
       "Name: rideable_type, dtype: int64"
      ]
     },
     "execution_count": 34,
     "metadata": {},
     "output_type": "execute_result"
    }
   ],
   "source": [
    "bike_type_count"
   ]
  },
  {
   "cell_type": "code",
   "execution_count": 35,
   "id": "cf8d7a70",
   "metadata": {},
   "outputs": [
    {
     "data": {
      "image/png": "[encoded data removed]",
      "text/plain": [
       "<Figure size 432x288 with 1 Axes>"
      ]
     },
     "metadata": {
      "needs_background": "light"
     },
     "output_type": "display_data"
    }
   ],
   "source": [
    "fig, ax = plt.subplots()\n",
    "sns.barplot(x = bike_type_count.index, y = bike_type_count, ax=ax)\n",
    "ax.set_xlabel('Type of Bike')\n",
    "ax.set_ylabel('Bike Hires')\n",
    "ax.set_title('Bike Hires per Type of Bike')\n",
    "plt.savefig('./visualizations from py notebook/Bike Hires per Type of Bike')"
   ]
  },
  {
   "cell_type": "markdown",
   "id": "bf6c41fa",
   "metadata": {},
   "source": [
    "Findings -\n",
    "1. Classic Bike is the most popular bike followed by Electrric bike and Docked Bike"
   ]
  },
  {
   "cell_type": "markdown",
   "id": "872f6e78",
   "metadata": {},
   "source": [
    "#### 1.a. Preferred bike type per Rider category"
   ]
  },
  {
   "cell_type": "code",
   "execution_count": 36,
   "id": "5305eeda",
   "metadata": {},
   "outputs": [],
   "source": [
    "bike_type_per_rider = df.groupby('member_casual').rideable_type.value_counts().unstack(0).sort_values('member', ascending=False)"
   ]
  },
  {
   "cell_type": "code",
   "execution_count": 196,
   "id": "7da250b9",
   "metadata": {},
   "outputs": [
    {
     "data": {
      "text/html": [
       "<div>\n",
       "<style scoped>\n",
       "    .dataframe tbody tr th:only-of-type {\n",
       "        vertical-align: middle;\n",
       "    }\n",
       "\n",
       "    .dataframe tbody tr th {\n",
       "        vertical-align: top;\n",
       "    }\n",
       "\n",
       "    .dataframe thead th {\n",
       "        text-align: right;\n",
       "    }\n",
       "</style>\n",
       "<table border=\"1\" class=\"dataframe\">\n",
       "  <thead>\n",
       "    <tr style=\"text-align: right;\">\n",
       "      <th>member_casual</th>\n",
       "      <th>casual</th>\n",
       "      <th>member</th>\n",
       "    </tr>\n",
       "    <tr>\n",
       "      <th>rideable_type</th>\n",
       "      <th></th>\n",
       "      <th></th>\n",
       "    </tr>\n",
       "  </thead>\n",
       "  <tbody>\n",
       "    <tr>\n",
       "      <th>classic_bike</th>\n",
       "      <td>1125944.0</td>\n",
       "      <td>1919169.0</td>\n",
       "    </tr>\n",
       "    <tr>\n",
       "      <th>electric_bike</th>\n",
       "      <td>595476.0</td>\n",
       "      <td>759574.0</td>\n",
       "    </tr>\n",
       "    <tr>\n",
       "      <th>docked_bike</th>\n",
       "      <td>221690.0</td>\n",
       "      <td>NaN</td>\n",
       "    </tr>\n",
       "  </tbody>\n",
       "</table>\n",
       "</div>"
      ],
      "text/plain": [
       "member_casual     casual     member\n",
       "rideable_type                      \n",
       "classic_bike   1125944.0  1919169.0\n",
       "electric_bike   595476.0   759574.0\n",
       "docked_bike     221690.0        NaN"
      ]
     },
     "execution_count": 196,
     "metadata": {},
     "output_type": "execute_result"
    }
   ],
   "source": [
    "bike_type_per_rider"
   ]
  },
  {
   "cell_type": "code",
   "execution_count": 37,
   "id": "eb2c6a82",
   "metadata": {},
   "outputs": [
    {
     "data": {
      "image/png": "[encoded data removed]",
      "text/plain": [
       "<Figure size 432x288 with 1 Axes>"
      ]
     },
     "metadata": {
      "needs_background": "light"
     },
     "output_type": "display_data"
    }
   ],
   "source": [
    "fig, ax = plt.subplots()\n",
    "bike_type_per_rider.plot.barh(ax=ax)\n",
    "ax.set_ylabel('Type of Bike')\n",
    "ax.set_xlabel('Bike Hires')\n",
    "ax.set_title('Bike Hires per Rider Category per Type of Bike')\n",
    "plt.savefig('./visualizations from py notebook/Bike Hires per Rider Category per Type of Bike')"
   ]
  },
  {
   "cell_type": "markdown",
   "id": "b822601a",
   "metadata": {},
   "source": [
    "Findings - \n",
    "1. Our previous finding remain unchanged. Classic Bike remained as most popular bike both for members and casual riders.\n",
    "2. It seems annual members on the contrary from casual riders, do not opt for docked bike."
   ]
  },
  {
   "cell_type": "markdown",
   "id": "9aa47c57",
   "metadata": {},
   "source": [
    "## Average Ride Length(Minutes)"
   ]
  },
  {
   "cell_type": "markdown",
   "id": "592cd3fc",
   "metadata": {},
   "source": [
    "## 1. Per Rider Category"
   ]
  },
  {
   "cell_type": "code",
   "execution_count": 38,
   "id": "e642e76f",
   "metadata": {},
   "outputs": [],
   "source": [
    "avg_len_per_rider = df.groupby('member_casual').ride_len_mins.mean()"
   ]
  },
  {
   "cell_type": "code",
   "execution_count": 216,
   "id": "1693202b",
   "metadata": {},
   "outputs": [
    {
     "data": {
      "text/plain": [
       "member_casual\n",
       "casual    23.789779\n",
       "member    12.366450\n",
       "Name: ride_len_mins, dtype: float64"
      ]
     },
     "execution_count": 216,
     "metadata": {},
     "output_type": "execute_result"
    }
   ],
   "source": [
    "avg_len_per_rider"
   ]
  },
  {
   "cell_type": "code",
   "execution_count": 39,
   "id": "35187471",
   "metadata": {},
   "outputs": [
    {
     "data": {
      "image/png": "[encoded data removed]",
      "text/plain": [
       "<Figure size 432x288 with 1 Axes>"
      ]
     },
     "metadata": {
      "needs_background": "light"
     },
     "output_type": "display_data"
    }
   ],
   "source": [
    "fig, ax = plt.subplots()\n",
    "sns.barplot(x = avg_len_per_rider.index, y = avg_len_per_rider, ax=ax)\n",
    "ax.set_xlabel('Rider Category')\n",
    "ax.set_ylabel('Average Ride Length (mins.)')\n",
    "ax.set_title('Average Ride Length per Rider Category')\n",
    "plt.savefig('./visualizations from py notebook/Average Ride Length per Rider Category')"
   ]
  },
  {
   "cell_type": "markdown",
   "id": "cd1ec282",
   "metadata": {},
   "source": [
    "Findings - \n",
    "1. Casual riders ride longer than annual members."
   ]
  },
  {
   "cell_type": "markdown",
   "id": "63e9b3ab",
   "metadata": {},
   "source": [
    "## 2. Per day of week"
   ]
  },
  {
   "cell_type": "code",
   "execution_count": 53,
   "id": "f0af42f3",
   "metadata": {},
   "outputs": [],
   "source": [
    "avg_len_per_day = df.groupby('ride_day_of_week').ride_len_mins.mean().sort_values(ascending=False)"
   ]
  },
  {
   "cell_type": "code",
   "execution_count": 223,
   "id": "3af53c28",
   "metadata": {},
   "outputs": [
    {
     "data": {
      "text/plain": [
       "ride_day_of_week\n",
       "Sunday       21.050792\n",
       "Saturday     20.570964\n",
       "Monday       16.764313\n",
       "Friday       16.198506\n",
       "Thursday     15.156744\n",
       "Wednesday    14.612108\n",
       "Tuesday      14.579952\n",
       "Name: ride_len_mins, dtype: float64"
      ]
     },
     "execution_count": 223,
     "metadata": {},
     "output_type": "execute_result"
    }
   ],
   "source": [
    "avg_len_per_day"
   ]
  },
  {
   "cell_type": "code",
   "execution_count": 54,
   "id": "b0df1b5b",
   "metadata": {},
   "outputs": [
    {
     "data": {
      "image/png": "[encoded data removed]",
      "text/plain": [
       "<Figure size 432x288 with 1 Axes>"
      ]
     },
     "metadata": {
      "needs_background": "light"
     },
     "output_type": "display_data"
    }
   ],
   "source": [
    "fig, ax = plt.subplots()\n",
    "sns.barplot(x = avg_len_per_day.index, y = avg_len_per_day, ax=ax)\n",
    "ax.set_xlabel('Day of Week')\n",
    "ax.set_ylabel('Average Ride Length (mins.)')\n",
    "ax.set_title('Average Ride Length per Day of Week')\n",
    "plt.savefig('./visualizations from py notebook/Average Ride Length per Day of Week')"
   ]
  },
  {
   "cell_type": "markdown",
   "id": "d02eb342",
   "metadata": {},
   "source": [
    "Findings-\n",
    "1. Weekends have greater avg ride length than weekdays"
   ]
  },
  {
   "cell_type": "markdown",
   "id": "02f6c032",
   "metadata": {},
   "source": [
    "#### 2.a. Per day of week per rider category"
   ]
  },
  {
   "cell_type": "code",
   "execution_count": 56,
   "id": "3cda1ce2",
   "metadata": {},
   "outputs": [],
   "source": [
    "avg_len_per_day_per_rider = df.groupby(['member_casual', 'ride_day_of_week']).ride_len_mins.mean().unstack(0).sort_values('member', ascending=False)"
   ]
  },
  {
   "cell_type": "code",
   "execution_count": 229,
   "id": "793a864c",
   "metadata": {},
   "outputs": [
    {
     "data": {
      "text/html": [
       "<div>\n",
       "<style scoped>\n",
       "    .dataframe tbody tr th:only-of-type {\n",
       "        vertical-align: middle;\n",
       "    }\n",
       "\n",
       "    .dataframe tbody tr th {\n",
       "        vertical-align: top;\n",
       "    }\n",
       "\n",
       "    .dataframe thead th {\n",
       "        text-align: right;\n",
       "    }\n",
       "</style>\n",
       "<table border=\"1\" class=\"dataframe\">\n",
       "  <thead>\n",
       "    <tr style=\"text-align: right;\">\n",
       "      <th>member_casual</th>\n",
       "      <th>casual</th>\n",
       "      <th>member</th>\n",
       "    </tr>\n",
       "    <tr>\n",
       "      <th>ride_day_of_week</th>\n",
       "      <th></th>\n",
       "      <th></th>\n",
       "    </tr>\n",
       "  </thead>\n",
       "  <tbody>\n",
       "    <tr>\n",
       "      <th>Sunday</th>\n",
       "      <td>27.100230</td>\n",
       "      <td>14.064812</td>\n",
       "    </tr>\n",
       "    <tr>\n",
       "      <th>Saturday</th>\n",
       "      <td>26.184477</td>\n",
       "      <td>13.915323</td>\n",
       "    </tr>\n",
       "    <tr>\n",
       "      <th>Friday</th>\n",
       "      <td>21.981865</td>\n",
       "      <td>12.031399</td>\n",
       "    </tr>\n",
       "    <tr>\n",
       "      <th>Monday</th>\n",
       "      <td>24.604598</td>\n",
       "      <td>12.015655</td>\n",
       "    </tr>\n",
       "    <tr>\n",
       "      <th>Thursday</th>\n",
       "      <td>20.961878</td>\n",
       "      <td>11.836282</td>\n",
       "    </tr>\n",
       "    <tr>\n",
       "      <th>Wednesday</th>\n",
       "      <td>20.454974</td>\n",
       "      <td>11.678916</td>\n",
       "    </tr>\n",
       "    <tr>\n",
       "      <th>Tuesday</th>\n",
       "      <td>20.830185</td>\n",
       "      <td>11.542768</td>\n",
       "    </tr>\n",
       "  </tbody>\n",
       "</table>\n",
       "</div>"
      ],
      "text/plain": [
       "member_casual        casual     member\n",
       "ride_day_of_week                      \n",
       "Sunday            27.100230  14.064812\n",
       "Saturday          26.184477  13.915323\n",
       "Friday            21.981865  12.031399\n",
       "Monday            24.604598  12.015655\n",
       "Thursday          20.961878  11.836282\n",
       "Wednesday         20.454974  11.678916\n",
       "Tuesday           20.830185  11.542768"
      ]
     },
     "execution_count": 229,
     "metadata": {},
     "output_type": "execute_result"
    }
   ],
   "source": [
    "avg_len_per_day_per_rider"
   ]
  },
  {
   "cell_type": "code",
   "execution_count": 57,
   "id": "92675025",
   "metadata": {},
   "outputs": [
    {
     "data": {
      "image/png": "[encoded data removed]",
      "text/plain": [
       "<Figure size 432x288 with 1 Axes>"
      ]
     },
     "metadata": {
      "needs_background": "light"
     },
     "output_type": "display_data"
    }
   ],
   "source": [
    "fig, ax = plt.subplots()\n",
    "avg_len_per_day_per_rider.plot.barh(ax=ax)\n",
    "ax.set_ylabel('Day of Week')\n",
    "ax.set_xlabel('Average Ride Length (mins.)')\n",
    "ax.set_title('Average Ride Length per Day of Week per Rider Category')\n",
    "plt.savefig('./visualizations from py notebook/Average Ride Length per Day of Week per Rider Category')"
   ]
  },
  {
   "cell_type": "markdown",
   "id": "26ede02b",
   "metadata": {},
   "source": [
    "Fidings-\n",
    "1. For casual riders, there is a noteable increase in avg ride duration on weekends and monday but for annual riders, there is no/little difference between avg ride duration on different days of week.\n",
    "2. On all days, avg ride duration of casual riders are much higher than annual members."
   ]
  },
  {
   "cell_type": "markdown",
   "id": "f95a9ed3",
   "metadata": {},
   "source": [
    "## 3. Per Month"
   ]
  },
  {
   "cell_type": "code",
   "execution_count": 232,
   "id": "089c29df",
   "metadata": {},
   "outputs": [],
   "source": [
    "avg_len_per_month = df.groupby('ride_month').ride_len_mins.mean().sort_values(ascending=False)"
   ]
  },
  {
   "cell_type": "code",
   "execution_count": 233,
   "id": "dc0391f3",
   "metadata": {},
   "outputs": [
    {
     "data": {
      "text/plain": [
       "ride_month\n",
       "August       19.453711\n",
       "May          18.546994\n",
       "September    18.365699\n",
       "July         18.244813\n",
       "June         18.108360\n",
       "October      16.093469\n",
       "April        15.436093\n",
       "March        15.331958\n",
       "November     12.937329\n",
       "December     12.490363\n",
       "February     11.880635\n",
       "January      11.112305\n",
       "Name: ride_len_mins, dtype: float64"
      ]
     },
     "execution_count": 233,
     "metadata": {},
     "output_type": "execute_result"
    }
   ],
   "source": [
    "avg_len_per_month"
   ]
  },
  {
   "cell_type": "code",
   "execution_count": 235,
   "id": "979b8e74",
   "metadata": {},
   "outputs": [
    {
     "data": {
      "image/png": "[encoded data removed]",
      "text/plain": [
       "<Figure size 1080x720 with 1 Axes>"
      ]
     },
     "metadata": {
      "needs_background": "light"
     },
     "output_type": "display_data"
    }
   ],
   "source": [
    "fig, ax = plt.subplots(figsize=(15,10))\n",
    "sns.barplot(x = avg_len_per_month.index, y = avg_len_per_month, ax=ax)\n",
    "ax.set_xlabel('Month of Year')\n",
    "ax.set_ylabel('Average Ride Length (mins.)')\n",
    "ax.set_title('Average Ride Length per Month')\n",
    "#plt.savefig('./visualizations from py notebook/Average Ride Length per Month')"
   ]
  },
  {
   "cell_type": "markdown",
   "id": "238f1646",
   "metadata": {},
   "source": [
    "Findings-\n",
    "1. Avg ride length gradually decreases towards cold months."
   ]
  },
  {
   "cell_type": "markdown",
   "id": "e2963d87",
   "metadata": {},
   "source": [
    "#### 3.a. Per Month per rider category"
   ]
  },
  {
   "cell_type": "code",
   "execution_count": 236,
   "id": "8c8d445c",
   "metadata": {},
   "outputs": [],
   "source": [
    "avg_len_per_month_per_rider = df.groupby(['member_casual', 'ride_month']).ride_len_mins.mean().unstack(0).sort_values('member', ascending=False)"
   ]
  },
  {
   "cell_type": "code",
   "execution_count": 237,
   "id": "259227d1",
   "metadata": {},
   "outputs": [
    {
     "data": {
      "text/html": [
       "<div>\n",
       "<style scoped>\n",
       "    .dataframe tbody tr th:only-of-type {\n",
       "        vertical-align: middle;\n",
       "    }\n",
       "\n",
       "    .dataframe tbody tr th {\n",
       "        vertical-align: top;\n",
       "    }\n",
       "\n",
       "    .dataframe thead th {\n",
       "        text-align: right;\n",
       "    }\n",
       "</style>\n",
       "<table border=\"1\" class=\"dataframe\">\n",
       "  <thead>\n",
       "    <tr style=\"text-align: right;\">\n",
       "      <th>member_casual</th>\n",
       "      <th>casual</th>\n",
       "      <th>member</th>\n",
       "    </tr>\n",
       "    <tr>\n",
       "      <th>ride_month</th>\n",
       "      <th></th>\n",
       "      <th></th>\n",
       "    </tr>\n",
       "  </thead>\n",
       "  <tbody>\n",
       "    <tr>\n",
       "      <th>June</th>\n",
       "      <td>23.408765</td>\n",
       "      <td>13.404071</td>\n",
       "    </tr>\n",
       "    <tr>\n",
       "      <th>August</th>\n",
       "      <td>25.419695</td>\n",
       "      <td>13.352573</td>\n",
       "    </tr>\n",
       "    <tr>\n",
       "      <th>July</th>\n",
       "      <td>23.490060</td>\n",
       "      <td>13.317249</td>\n",
       "    </tr>\n",
       "    <tr>\n",
       "      <th>May</th>\n",
       "      <td>25.612922</td>\n",
       "      <td>13.051148</td>\n",
       "    </tr>\n",
       "    <tr>\n",
       "      <th>September</th>\n",
       "      <td>24.480440</td>\n",
       "      <td>12.924445</td>\n",
       "    </tr>\n",
       "    <tr>\n",
       "      <th>October</th>\n",
       "      <td>22.602675</td>\n",
       "      <td>11.846152</td>\n",
       "    </tr>\n",
       "    <tr>\n",
       "      <th>March</th>\n",
       "      <td>24.147271</td>\n",
       "      <td>11.365802</td>\n",
       "    </tr>\n",
       "    <tr>\n",
       "      <th>April</th>\n",
       "      <td>23.699043</td>\n",
       "      <td>11.244258</td>\n",
       "    </tr>\n",
       "    <tr>\n",
       "      <th>November</th>\n",
       "      <td>18.780735</td>\n",
       "      <td>10.743756</td>\n",
       "    </tr>\n",
       "    <tr>\n",
       "      <th>December</th>\n",
       "      <td>18.506493</td>\n",
       "      <td>10.430646</td>\n",
       "    </tr>\n",
       "    <tr>\n",
       "      <th>February</th>\n",
       "      <td>19.438581</td>\n",
       "      <td>10.339977</td>\n",
       "    </tr>\n",
       "    <tr>\n",
       "      <th>January</th>\n",
       "      <td>16.487046</td>\n",
       "      <td>10.112185</td>\n",
       "    </tr>\n",
       "  </tbody>\n",
       "</table>\n",
       "</div>"
      ],
      "text/plain": [
       "member_casual     casual     member\n",
       "ride_month                         \n",
       "June           23.408765  13.404071\n",
       "August         25.419695  13.352573\n",
       "July           23.490060  13.317249\n",
       "May            25.612922  13.051148\n",
       "September      24.480440  12.924445\n",
       "October        22.602675  11.846152\n",
       "March          24.147271  11.365802\n",
       "April          23.699043  11.244258\n",
       "November       18.780735  10.743756\n",
       "December       18.506493  10.430646\n",
       "February       19.438581  10.339977\n",
       "January        16.487046  10.112185"
      ]
     },
     "execution_count": 237,
     "metadata": {},
     "output_type": "execute_result"
    }
   ],
   "source": [
    "avg_len_per_month_per_rider"
   ]
  },
  {
   "cell_type": "code",
   "execution_count": 241,
   "id": "1b048ad2",
   "metadata": {},
   "outputs": [
    {
     "data": {
      "image/png": "[encoded data removed]",
      "text/plain": [
       "<Figure size 1080x720 with 1 Axes>"
      ]
     },
     "metadata": {
      "needs_background": "light"
     },
     "output_type": "display_data"
    }
   ],
   "source": [
    "fig, ax = plt.subplots(figsize=(15,10))\n",
    "avg_len_per_month_per_rider.plot.bar(ax=ax)\n",
    "ax.set_xlabel('Month of year')\n",
    "ax.set_ylabel('Average Ride Length (mins.)')\n",
    "ax.set_title('Average Ride Length per Month per Rider Category')\n",
    "#plt.savefig('./visualizations from py notebook/Average Ride Length per Month per Rider Category')"
   ]
  },
  {
   "cell_type": "markdown",
   "id": "39fac8a0",
   "metadata": {},
   "source": [
    "Findings-\n",
    "1. Avg ride duration for annual members remains almost same throughout th year.\n",
    "2. Avg ride duration for casual riders however drops in the winter months."
   ]
  },
  {
   "cell_type": "markdown",
   "id": "02ead6d8",
   "metadata": {},
   "source": [
    "## 4. Per Season"
   ]
  },
  {
   "cell_type": "code",
   "execution_count": 60,
   "id": "58939e4d",
   "metadata": {},
   "outputs": [],
   "source": [
    "avg_len_per_season = df.groupby('ride_season').ride_len_mins.mean().sort_values(ascending=False)"
   ]
  },
  {
   "cell_type": "code",
   "execution_count": 240,
   "id": "2f3d3925",
   "metadata": {},
   "outputs": [
    {
     "data": {
      "text/plain": [
       "ride_season\n",
       "Summer(Jun-Aug)    18.621820\n",
       "Spring(Mar-May)    16.990633\n",
       "Autumn(Sep-Nov)    16.538465\n",
       "Winter(Dec-Feb)    12.013606\n",
       "Name: ride_len_mins, dtype: float64"
      ]
     },
     "execution_count": 240,
     "metadata": {},
     "output_type": "execute_result"
    }
   ],
   "source": [
    "avg_len_per_season"
   ]
  },
  {
   "cell_type": "code",
   "execution_count": 61,
   "id": "208d4ed2",
   "metadata": {},
   "outputs": [
    {
     "data": {
      "image/png": "[encoded data removed]",
      "text/plain": [
       "<Figure size 432x288 with 1 Axes>"
      ]
     },
     "metadata": {
      "needs_background": "light"
     },
     "output_type": "display_data"
    }
   ],
   "source": [
    "fig, ax = plt.subplots()\n",
    "sns.barplot(x = avg_len_per_season.index, y = avg_len_per_season, ax=ax)\n",
    "ax.set_xlabel('Season')\n",
    "ax.set_ylabel('Average Ride Length (mins.)')\n",
    "ax.set_title('Average Ride Length per Season')\n",
    "plt.savefig('./visualizations from py notebook/Average Ride Length per Season')"
   ]
  },
  {
   "cell_type": "markdown",
   "id": "76ff6ac7",
   "metadata": {},
   "source": [
    "Findings-\n",
    "1. Summer has the highest avg. duration while WInter is the lowest"
   ]
  },
  {
   "cell_type": "markdown",
   "id": "b6730e21",
   "metadata": {},
   "source": [
    "#### 4.a. Per Season per rider category"
   ]
  },
  {
   "cell_type": "code",
   "execution_count": 58,
   "id": "fa6c66a8",
   "metadata": {},
   "outputs": [],
   "source": [
    "avg_len_per_season_per_rider = df.groupby(['member_casual', 'ride_season']).ride_len_mins.mean().unstack(0).sort_values('member', ascending=False)"
   ]
  },
  {
   "cell_type": "code",
   "execution_count": 246,
   "id": "aa39436d",
   "metadata": {},
   "outputs": [
    {
     "data": {
      "text/html": [
       "<div>\n",
       "<style scoped>\n",
       "    .dataframe tbody tr th:only-of-type {\n",
       "        vertical-align: middle;\n",
       "    }\n",
       "\n",
       "    .dataframe tbody tr th {\n",
       "        vertical-align: top;\n",
       "    }\n",
       "\n",
       "    .dataframe thead th {\n",
       "        text-align: right;\n",
       "    }\n",
       "</style>\n",
       "<table border=\"1\" class=\"dataframe\">\n",
       "  <thead>\n",
       "    <tr style=\"text-align: right;\">\n",
       "      <th>member_casual</th>\n",
       "      <th>casual</th>\n",
       "      <th>member</th>\n",
       "    </tr>\n",
       "    <tr>\n",
       "      <th>ride_season</th>\n",
       "      <th></th>\n",
       "      <th></th>\n",
       "    </tr>\n",
       "  </thead>\n",
       "  <tbody>\n",
       "    <tr>\n",
       "      <th>Summer(Jun-Aug)</th>\n",
       "      <td>24.161779</td>\n",
       "      <td>13.357826</td>\n",
       "    </tr>\n",
       "    <tr>\n",
       "      <th>Spring(Mar-May)</th>\n",
       "      <td>24.889672</td>\n",
       "      <td>12.107665</td>\n",
       "    </tr>\n",
       "    <tr>\n",
       "      <th>Autumn(Sep-Nov)</th>\n",
       "      <td>23.114430</td>\n",
       "      <td>12.031611</td>\n",
       "    </tr>\n",
       "    <tr>\n",
       "      <th>Winter(Dec-Feb)</th>\n",
       "      <td>18.350724</td>\n",
       "      <td>10.327237</td>\n",
       "    </tr>\n",
       "  </tbody>\n",
       "</table>\n",
       "</div>"
      ],
      "text/plain": [
       "member_casual       casual     member\n",
       "ride_season                          \n",
       "Summer(Jun-Aug)  24.161779  13.357826\n",
       "Spring(Mar-May)  24.889672  12.107665\n",
       "Autumn(Sep-Nov)  23.114430  12.031611\n",
       "Winter(Dec-Feb)  18.350724  10.327237"
      ]
     },
     "execution_count": 246,
     "metadata": {},
     "output_type": "execute_result"
    }
   ],
   "source": [
    "avg_len_per_season_per_rider"
   ]
  },
  {
   "cell_type": "code",
   "execution_count": 59,
   "id": "3304baed",
   "metadata": {},
   "outputs": [
    {
     "data": {
      "image/png": "[encoded data removed]",
      "text/plain": [
       "<Figure size 432x288 with 1 Axes>"
      ]
     },
     "metadata": {
      "needs_background": "light"
     },
     "output_type": "display_data"
    }
   ],
   "source": [
    "fig, ax = plt.subplots()\n",
    "avg_len_per_season_per_rider.plot.barh(ax=ax)\n",
    "ax.set_ylabel('Season')\n",
    "ax.set_xlabel('Average Ride Length (mins.)')\n",
    "ax.set_title('Average Ride Length per Season per Rider Category')\n",
    "plt.savefig('./visualizations from py notebook/Average Ride Length per Season per Rider Category')"
   ]
  },
  {
   "cell_type": "markdown",
   "id": "022acbe8",
   "metadata": {},
   "source": [
    "Findings-\n",
    "1. Avg duration remains almost same accross seasons for annual members while decreses in winter for casual riders."
   ]
  },
  {
   "cell_type": "markdown",
   "id": "cedf5ab9",
   "metadata": {},
   "source": [
    "## 5. Per Hour of Day"
   ]
  },
  {
   "cell_type": "code",
   "execution_count": 62,
   "id": "3948df18",
   "metadata": {},
   "outputs": [],
   "source": [
    "avg_len_per_hour = df.groupby('ride_hour_of_day').ride_len_mins.mean().sort_index()"
   ]
  },
  {
   "cell_type": "code",
   "execution_count": 253,
   "id": "d8461492",
   "metadata": {},
   "outputs": [
    {
     "data": {
      "text/plain": [
       "ride_hour_of_day\n",
       "0     16.198370\n",
       "1     16.199115\n",
       "2     16.290826\n",
       "3     15.969449\n",
       "4     14.570283\n",
       "5     11.538069\n",
       "6     11.989436\n",
       "7     12.371294\n",
       "8     12.939289\n",
       "9     15.974932\n",
       "10    19.192196\n",
       "11    19.959177\n",
       "12    19.444513\n",
       "13    20.079598\n",
       "14    20.253627\n",
       "15    19.088357\n",
       "16    17.646171\n",
       "17    16.744742\n",
       "18    16.631268\n",
       "19    16.570877\n",
       "20    16.401823\n",
       "21    15.935044\n",
       "22    15.804334\n",
       "23    16.094093\n",
       "Name: ride_len_mins, dtype: float64"
      ]
     },
     "execution_count": 253,
     "metadata": {},
     "output_type": "execute_result"
    }
   ],
   "source": [
    "avg_len_per_hour"
   ]
  },
  {
   "cell_type": "code",
   "execution_count": 63,
   "id": "ef30dd7d",
   "metadata": {},
   "outputs": [
    {
     "data": {
      "image/png": "[encoded data removed]",
      "text/plain": [
       "<Figure size 432x288 with 1 Axes>"
      ]
     },
     "metadata": {
      "needs_background": "light"
     },
     "output_type": "display_data"
    }
   ],
   "source": [
    "fig, ax = plt.subplots()\n",
    "sns.barplot(x = avg_len_per_hour.index, y = avg_len_per_hour, ax=ax)\n",
    "ax.set_xlabel('Hour of Day')\n",
    "ax.set_ylabel('Average Ride Length (mins.)')\n",
    "ax.set_title('Average Ride Length per Hour of Day')\n",
    "plt.savefig('./visualizations from py notebook/Average Ride Length per Hour of Day')"
   ]
  },
  {
   "cell_type": "markdown",
   "id": "2dc3c19d",
   "metadata": {},
   "source": [
    "Findings-\n",
    "1. There is a significant decrease in avg ride duration during the morning hours(4-9am) and increase in the noon and afternoon time."
   ]
  },
  {
   "cell_type": "markdown",
   "id": "fa0af1eb",
   "metadata": {},
   "source": [
    "#### 5.a. Per Hour of Day per rider category"
   ]
  },
  {
   "cell_type": "code",
   "execution_count": 64,
   "id": "ea869728",
   "metadata": {},
   "outputs": [],
   "source": [
    "avg_len_per_hour_per_rider = df.groupby(['member_casual', 'ride_hour_of_day']).ride_len_mins.mean().unstack(0).sort_index()"
   ]
  },
  {
   "cell_type": "code",
   "execution_count": 261,
   "id": "7bd9202c",
   "metadata": {},
   "outputs": [
    {
     "data": {
      "text/html": [
       "<div>\n",
       "<style scoped>\n",
       "    .dataframe tbody tr th:only-of-type {\n",
       "        vertical-align: middle;\n",
       "    }\n",
       "\n",
       "    .dataframe tbody tr th {\n",
       "        vertical-align: top;\n",
       "    }\n",
       "\n",
       "    .dataframe thead th {\n",
       "        text-align: right;\n",
       "    }\n",
       "</style>\n",
       "<table border=\"1\" class=\"dataframe\">\n",
       "  <thead>\n",
       "    <tr style=\"text-align: right;\">\n",
       "      <th>member_casual</th>\n",
       "      <th>casual</th>\n",
       "      <th>member</th>\n",
       "    </tr>\n",
       "    <tr>\n",
       "      <th>ride_hour_of_day</th>\n",
       "      <th></th>\n",
       "      <th></th>\n",
       "    </tr>\n",
       "  </thead>\n",
       "  <tbody>\n",
       "    <tr>\n",
       "      <th>0</th>\n",
       "      <td>19.431882</td>\n",
       "      <td>11.570737</td>\n",
       "    </tr>\n",
       "    <tr>\n",
       "      <th>1</th>\n",
       "      <td>19.093494</td>\n",
       "      <td>11.692476</td>\n",
       "    </tr>\n",
       "    <tr>\n",
       "      <th>2</th>\n",
       "      <td>18.976014</td>\n",
       "      <td>11.632061</td>\n",
       "    </tr>\n",
       "    <tr>\n",
       "      <th>3</th>\n",
       "      <td>18.568052</td>\n",
       "      <td>11.829015</td>\n",
       "    </tr>\n",
       "    <tr>\n",
       "      <th>4</th>\n",
       "      <td>17.742703</td>\n",
       "      <td>11.698581</td>\n",
       "    </tr>\n",
       "    <tr>\n",
       "      <th>5</th>\n",
       "      <td>16.260717</td>\n",
       "      <td>10.011435</td>\n",
       "    </tr>\n",
       "    <tr>\n",
       "      <th>6</th>\n",
       "      <td>15.874636</td>\n",
       "      <td>10.945385</td>\n",
       "    </tr>\n",
       "    <tr>\n",
       "      <th>7</th>\n",
       "      <td>16.188573</td>\n",
       "      <td>11.349508</td>\n",
       "    </tr>\n",
       "    <tr>\n",
       "      <th>8</th>\n",
       "      <td>18.868271</td>\n",
       "      <td>11.092488</td>\n",
       "    </tr>\n",
       "    <tr>\n",
       "      <th>9</th>\n",
       "      <td>24.617485</td>\n",
       "      <td>11.505079</td>\n",
       "    </tr>\n",
       "    <tr>\n",
       "      <th>10</th>\n",
       "      <td>28.219936</td>\n",
       "      <td>12.401318</td>\n",
       "    </tr>\n",
       "    <tr>\n",
       "      <th>11</th>\n",
       "      <td>28.737809</td>\n",
       "      <td>12.739069</td>\n",
       "    </tr>\n",
       "    <tr>\n",
       "      <th>12</th>\n",
       "      <td>27.950819</td>\n",
       "      <td>12.368873</td>\n",
       "    </tr>\n",
       "    <tr>\n",
       "      <th>13</th>\n",
       "      <td>28.394548</td>\n",
       "      <td>12.580734</td>\n",
       "    </tr>\n",
       "    <tr>\n",
       "      <th>14</th>\n",
       "      <td>27.999449</td>\n",
       "      <td>12.936815</td>\n",
       "    </tr>\n",
       "    <tr>\n",
       "      <th>15</th>\n",
       "      <td>26.383722</td>\n",
       "      <td>12.849687</td>\n",
       "    </tr>\n",
       "    <tr>\n",
       "      <th>16</th>\n",
       "      <td>24.508855</td>\n",
       "      <td>12.868325</td>\n",
       "    </tr>\n",
       "    <tr>\n",
       "      <th>17</th>\n",
       "      <td>22.465476</td>\n",
       "      <td>13.044712</td>\n",
       "    </tr>\n",
       "    <tr>\n",
       "      <th>18</th>\n",
       "      <td>21.799395</td>\n",
       "      <td>12.931354</td>\n",
       "    </tr>\n",
       "    <tr>\n",
       "      <th>19</th>\n",
       "      <td>21.540932</td>\n",
       "      <td>12.724476</td>\n",
       "    </tr>\n",
       "    <tr>\n",
       "      <th>20</th>\n",
       "      <td>21.236681</td>\n",
       "      <td>12.463360</td>\n",
       "    </tr>\n",
       "    <tr>\n",
       "      <th>21</th>\n",
       "      <td>20.230649</td>\n",
       "      <td>12.018484</td>\n",
       "    </tr>\n",
       "    <tr>\n",
       "      <th>22</th>\n",
       "      <td>19.274606</td>\n",
       "      <td>11.954598</td>\n",
       "    </tr>\n",
       "    <tr>\n",
       "      <th>23</th>\n",
       "      <td>19.486586</td>\n",
       "      <td>11.840610</td>\n",
       "    </tr>\n",
       "  </tbody>\n",
       "</table>\n",
       "</div>"
      ],
      "text/plain": [
       "member_casual        casual     member\n",
       "ride_hour_of_day                      \n",
       "0                 19.431882  11.570737\n",
       "1                 19.093494  11.692476\n",
       "2                 18.976014  11.632061\n",
       "3                 18.568052  11.829015\n",
       "4                 17.742703  11.698581\n",
       "5                 16.260717  10.011435\n",
       "6                 15.874636  10.945385\n",
       "7                 16.188573  11.349508\n",
       "8                 18.868271  11.092488\n",
       "9                 24.617485  11.505079\n",
       "10                28.219936  12.401318\n",
       "11                28.737809  12.739069\n",
       "12                27.950819  12.368873\n",
       "13                28.394548  12.580734\n",
       "14                27.999449  12.936815\n",
       "15                26.383722  12.849687\n",
       "16                24.508855  12.868325\n",
       "17                22.465476  13.044712\n",
       "18                21.799395  12.931354\n",
       "19                21.540932  12.724476\n",
       "20                21.236681  12.463360\n",
       "21                20.230649  12.018484\n",
       "22                19.274606  11.954598\n",
       "23                19.486586  11.840610"
      ]
     },
     "execution_count": 261,
     "metadata": {},
     "output_type": "execute_result"
    }
   ],
   "source": [
    "avg_len_per_hour_per_rider"
   ]
  },
  {
   "cell_type": "code",
   "execution_count": 65,
   "id": "b41c5d0c",
   "metadata": {},
   "outputs": [
    {
     "data": {
      "image/png": "[encoded data removed]",
      "text/plain": [
       "<Figure size 432x288 with 1 Axes>"
      ]
     },
     "metadata": {
      "needs_background": "light"
     },
     "output_type": "display_data"
    }
   ],
   "source": [
    "fig, ax = plt.subplots()\n",
    "avg_len_per_hour_per_rider.plot.bar(ax=ax)\n",
    "ax.set_xlabel('Hour of Day')\n",
    "ax.set_ylabel('Average Ride Length (mins.)')\n",
    "ax.set_title('Average Ride Length per Hour of Day per Rider Category')\n",
    "plt.savefig('./visualizations from py notebook/Average Ride Length per Hour of Day per Rider Category')"
   ]
  },
  {
   "cell_type": "markdown",
   "id": "780b4bb6",
   "metadata": {},
   "source": [
    "Findings-\n",
    "1. Avg duration for members remains almost same accross hours.\n",
    "2. But for casual riders, there is an increase in avg duration in late morning to afternoon hours"
   ]
  },
  {
   "cell_type": "markdown",
   "id": "5af712ae",
   "metadata": {},
   "source": [
    "## Total Ride Length"
   ]
  },
  {
   "cell_type": "markdown",
   "id": "493c6dbc",
   "metadata": {},
   "source": [
    "## 1. Per Rider Category"
   ]
  },
  {
   "cell_type": "code",
   "execution_count": 43,
   "id": "c17760d0",
   "metadata": {},
   "outputs": [],
   "source": [
    "total_dutration = df.ride_len_mins.sum()"
   ]
  },
  {
   "cell_type": "code",
   "execution_count": 44,
   "id": "62f27865",
   "metadata": {},
   "outputs": [
    {
     "data": {
      "text/plain": [
       "79352698.13999997"
      ]
     },
     "execution_count": 44,
     "metadata": {},
     "output_type": "execute_result"
    }
   ],
   "source": [
    "total_dutration"
   ]
  },
  {
   "cell_type": "code",
   "execution_count": 45,
   "id": "44e5e4e6",
   "metadata": {},
   "outputs": [],
   "source": [
    "percentage_duration_per_rider = df.groupby('member_casual').ride_len_mins.sum() * 100 / total_dutration"
   ]
  },
  {
   "cell_type": "code",
   "execution_count": 47,
   "id": "bd00b647",
   "metadata": {},
   "outputs": [
    {
     "data": {
      "text/plain": [
       "member_casual\n",
       "casual    58.254047\n",
       "member    41.745953\n",
       "Name: ride_len_mins, dtype: float64"
      ]
     },
     "execution_count": 47,
     "metadata": {},
     "output_type": "execute_result"
    }
   ],
   "source": [
    "percentage_duration_per_rider"
   ]
  },
  {
   "cell_type": "code",
   "execution_count": 52,
   "id": "c358fed5",
   "metadata": {},
   "outputs": [
    {
     "data": {
      "image/png": "[encoded data removed]",
      "text/plain": [
       "<Figure size 432x288 with 1 Axes>"
      ]
     },
     "metadata": {},
     "output_type": "display_data"
    }
   ],
   "source": [
    "plt.pie(percentage_duration_per_rider, labels= percentage_duration_per_rider.index, autopct='%.1f%%', shadow=True)\n",
    "plt.title('Total Duration Percentage per Rider Category')\n",
    "plt.savefig('./visualizations from py notebook/Total Duration Percentage per Rider Category')"
   ]
  }
 ],
 "metadata": {
  "kernelspec": {
   "display_name": "Python 3 (ipykernel)",
   "language": "python",
   "name": "python3"
  },
  "language_info": {
   "codemirror_mode": {
    "name": "ipython",
    "version": 3
   },
   "file_extension": ".py",
   "mimetype": "text/x-python",
   "name": "python",
   "nbconvert_exporter": "python",
   "pygments_lexer": "ipython3",
   "version": "3.9.7"
  }
 },
 "nbformat": 4,
 "nbformat_minor": 5
}
